{
 "cells": [
  {
   "cell_type": "markdown",
   "id": "04b68f63",
   "metadata": {},
   "source": [
    "### Homework 1\n",
    "#### Zhangrui Huang (zh2680@nyu.edu)"
   ]
  },
  {
   "cell_type": "markdown",
   "id": "66d778cd",
   "metadata": {},
   "source": [
    "#### Problem 1 (a)\n",
    "$f(x)=\\left\\|x\\right\\|_2^2=\\sum_{i=1}^d x_i^2$, $\\frac{df}{dx}=\\frac{d}{dx}\\sum_{i=1}^d x_i^2=\\sum_{i=1}^d\\frac{d}{dx}x_i^2=2\\sum_{i=1}^dx_i$\n",
    "#### Problem 1 (b)\n",
    "$f(x)=\\sum_{i=1}^n\\left\\|x_i-\\mu\\right\\|_2^2=\\sum_{i=1}^n(x_i-\\mu)^2$, $\\frac{df}{d\\mu}=\\frac{d}{d\\mu}\\sum_{i=1}^n(x_i-\\mu)^2=\\sum_{i=1}^n\\frac{d}{d\\mu}(x_i-\\mu)^2=-2\\sum_{i=1}^n(x_i-\\mu)=0\\Rightarrow\\mu=\\frac{1}{n}\\sum_{i=1}^nx_i$"
   ]
  },
  {
   "cell_type": "markdown",
   "id": "3d8aa2df",
   "metadata": {},
   "source": [
    "#### Problem 2 (a)\n",
    "X is the matrix of n training data points containing d feature, size n x d.\n",
    "\n",
    "y is the vector of target values, size n.\n",
    "\n",
    "w is the vector of weights for each feature, size d.\n",
    "\n",
    "f(x)=wX is the predicted values for all training data points.\n",
    "\n",
    "Loss function is $l_1=\\left\\|wX-y\\right\\|_1$.\n",
    "#### Problem 2 (b)\n",
    "Linear model can be optimized in closed form if the number of data points is greater than the features of data.\n",
    "\n",
    "The optimized weights $w^*=(X^TX)^{-1}X^Ty$\n",
    "#### Problem 2 (c)\n",
    "Representation is the matrix of n training data points X. Measure of goodness is the loss function between predicted and target value. Method to optimize is that optimize linear model in closed form, to minimize the gradient of loss function.\n"
   ]
  },
  {
   "cell_type": "markdown",
   "id": "4d79d682",
   "metadata": {},
   "source": [
    "#### Problem 3 (a)\n",
    "For $i=1,...,4,\\ z_i=\\max(0,W_{H,i}x+b_{H,i}),\\ y=b_O+\\sum_{i=1}^4W_{O,i}z_i$"
   ]
  },
  {
   "cell_type": "code",
   "execution_count": 1,
   "id": "6fb88e27",
   "metadata": {},
   "outputs": [
    {
     "name": "stdout",
     "output_type": "stream",
     "text": [
      "x =  0 y =  8 difference =  1.844178143528552e-10\n",
      "x =  1 y =  6 difference =  1.4304468720638397e-10\n",
      "x =  2 y =  4 difference =  1.0167156005991274e-10\n",
      "x =  3 y =  2 difference =  6.03037619839597e-11\n",
      "x =  4 y =  0 difference =  2.8045121780451154e-11\n",
      "x =  5 y =  2 difference =  -5.023537141823908e-11\n",
      "x =  6 y =  4 difference =  -1.2851586461692932e-10\n",
      "x =  7 y =  2 difference =  -1.5347723092418164e-10\n",
      "x =  8 y =  0 difference =  -2.035491775131959e-10\n",
      "x =  9 y =  2 difference =  -2.553477429501072e-10\n",
      "x =  10 y =  4 difference =  -3.071249921049457e-10\n",
      "x =  11 y =  6 difference =  -3.58923557541857e-10\n",
      "x =  12 y =  8 difference =  -4.107221229787683e-10\n"
     ]
    }
   ],
   "source": [
    "import warnings\n",
    "import numpy as np\n",
    "from scipy.optimize import fsolve\n",
    "\n",
    "warnings.filterwarnings(\"ignore\")\n",
    "\n",
    "def func(para):\n",
    "    bo,wo1,wo2,wo3,wo4,bh1,bh2,bh3,bh4,wh1,wh2,wh3,wh4 = para\n",
    "    predicts = []\n",
    "    for [x, y] in points:\n",
    "        predict = bo+wo1*max(0,wh1*x+bh1)+wo2*max(0,wh2*x+bh2)+wo3*max(0,wh3*x+bh3)+wo4*max(0,wh4*x+bh4)-y\n",
    "        predicts.append(predict)\n",
    "    return predicts\n",
    "\n",
    "# Dataset 1\n",
    "points = [[0,8],[1,6],[2,4],[3,2],[4,0],[5,2],[6,4],[7,2],[8,0],[9,2],[10,4],[11,6],[12,8]]\n",
    "\n",
    "solution = fsolve(func,np.random.normal(size = 13))\n",
    "while not (np.all(np.isclose(func(solution), [0]*13) == True)):\n",
    "    solution = fsolve(func,np.random.normal(size = 13))\n",
    "    \n",
    "bo,wo1,wo2,wo3,wo4,bh1,bh2,bh3,bh4,wh1,wh2,wh3,wh4 = solution\n",
    "\n",
    "for [x, y] in points:\n",
    "    diff = bo+wo1*max(0,wh1*x+bh1)+wo2*max(0,wh2*x+bh2)+wo3*max(0,wh3*x+bh3)+wo4*max(0,wh4*x+bh4)-y\n",
    "    print('x = ', x, 'y = ', y, 'difference = ', diff)"
   ]
  },
  {
   "cell_type": "code",
   "execution_count": 2,
   "id": "c1f2b59c",
   "metadata": {},
   "outputs": [
    {
     "name": "stdout",
     "output_type": "stream",
     "text": [
      "x =  0 y =  0 difference =  -1.2733814003240695e-10\n",
      "x =  0 y =  0 difference =  -1.2733814003240695e-10\n",
      "x =  0 y =  0 difference =  -1.2733814003240695e-10\n",
      "x =  1 y =  1 difference =  -1.099751401056892e-10\n",
      "x =  2 y =  2 difference =  -9.261036382213206e-11\n",
      "x =  3 y =  3 difference =  -7.524691980620446e-11\n",
      "x =  4 y =  2 difference =  -7.817479996674592e-11\n",
      "x =  5 y =  1 difference =  -1.8464785256355754e-11\n",
      "x =  6 y =  1.5 difference =  -1.8068213591959648e-11\n",
      "x =  7 y =  2 difference =  -1.9144463792031274e-11\n",
      "x =  8 y =  2.5 difference =  -2.0300650049875912e-11\n",
      "x =  9 y =  3 difference =  -2.1456614263115625e-11\n",
      "x =  10 y =  3.5 difference =  -2.2611690297935638e-11\n"
     ]
    }
   ],
   "source": [
    "# Dataset 2 (Since we need 13 points to fit the system of equations, I duplicated point [0,0] twice)\n",
    "points = [[0,0],[0,0],[0,0],[1,1],[2,2],[3,3],[4,2],[5,1],[6,1.5],[7,2],[8,2.5],[9,3],[10,3.5]]\n",
    "\n",
    "solution = fsolve(func,np.random.normal(size = 13))\n",
    "while not (np.all(np.isclose(func(solution), [0]*13) == True)):\n",
    "    solution = fsolve(func,np.random.normal(size = 13))\n",
    "    \n",
    "bo,wo1,wo2,wo3,wo4,bh1,bh2,bh3,bh4,wh1,wh2,wh3,wh4 = solution\n",
    "\n",
    "for [x, y] in points:\n",
    "    diff = bo+wo1*max(0,wh1*x+bh1)+wo2*max(0,wh2*x+bh2)+wo3*max(0,wh3*x+bh3)+wo4*max(0,wh4*x+bh4)-y\n",
    "    print('x = ', x, 'y = ', y, 'difference = ', diff)"
   ]
  },
  {
   "cell_type": "markdown",
   "id": "7b3bdc04",
   "metadata": {},
   "source": [
    "#### Problem 3 (b)\n",
    "$\\nabla\\mathcal{L}(\\vec{\\theta})=2\\sum_{i=1}^{n}(y_i-f(x_i,\\vec{\\theta}))*(-\\nabla f(x_i,\\vec{\\theta}))=2\\sum_{i=1}^{n}(f(x_i,\\vec{\\theta})-y_i)*\\nabla f(x_i,\\vec{\\theta})$\n",
    "#### Problem 3 (c)\n",
    "When $x=2$, $f(x,\\vec{\\theta_0})=b_O+\\sum_{i=1}^4W_{O,i}\\max(0,W_{H,i}x+b_{H,i})=-3$\n",
    "#### Problem 3 (d)\n",
    "$\\nabla f(x,\\vec{\\theta_0})=\\nabla(\\sum_{i=1}^4W_{O,i}\\max(0,W_{H,i}x+b_{H,i})+b_O)=\\sum_{i=1}^4W_{O,i}\\nabla\\max(0,W_{H,i}x+b_{H,i})=-2$"
   ]
  },
  {
   "cell_type": "markdown",
   "id": "331a6acf",
   "metadata": {},
   "source": [
    "#### Problem 4"
   ]
  },
  {
   "cell_type": "code",
   "execution_count": 3,
   "id": "b0575236",
   "metadata": {},
   "outputs": [],
   "source": [
    "import numpy as np\n",
    "import torch, torchvision\n",
    "import matplotlib.pyplot as plt\n",
    "\n",
    "# Download dataset\n",
    "trainingdata = torchvision.datasets.FashionMNIST('./FashionMNIST/',train=True,download=True,transform=torchvision.transforms.ToTensor())\n",
    "testdata = torchvision.datasets.FashionMNIST('./FashionMNIST/',train=False,download=True,transform=torchvision.transforms.ToTensor())\n",
    "\n",
    "# Load dataset\n",
    "trainDataLoader = torch.utils.data.DataLoader(trainingdata,batch_size=64,shuffle=True)\n",
    "testDataLoader = torch.utils.data.DataLoader(testdata,batch_size=64,shuffle=False)"
   ]
  },
  {
   "cell_type": "code",
   "execution_count": 4,
   "id": "7723bc60",
   "metadata": {},
   "outputs": [],
   "source": [
    "# Build Model\n",
    "class Model(torch.nn.Module):\n",
    "    def __init__(self): # Three hidden layers\n",
    "        super(Model, self).__init__()\n",
    "        self.fc1 = torch.nn.Linear(28 * 28, 256) # Input size is 28*28\n",
    "        self.fc2 = torch.nn.Linear(256, 128)\n",
    "        self.fc3 = torch.nn.Linear(128, 64)\n",
    "        self.fc4 = torch.nn.Linear(64, 10) # Onput size is 10\n",
    "\n",
    "    def forward(self, x): # ReLU activations\n",
    "        x = x.view(-1, 28*28) # Change from 28x28 view to 784 vector\n",
    "        x = torch.relu(self.fc1(x))\n",
    "        x = torch.relu(self.fc2(x))\n",
    "        x = torch.relu(self.fc3(x))\n",
    "        x = self.fc4(x)\n",
    "        return x\n",
    "\n",
    "# Step 1: Model\n",
    "model = Model()\n",
    "# Step 2: Loss\n",
    "loss = torch.nn.CrossEntropyLoss()\n",
    "# Step 3: Optimizer\n",
    "optimizer = torch.optim.SGD(model.parameters(), lr=0.01)\n",
    "# Step 4: Device\n",
    "device = torch.device('cpu')\n",
    "model = model.to(device)"
   ]
  },
  {
   "cell_type": "code",
   "execution_count": 5,
   "id": "5153ece4",
   "metadata": {},
   "outputs": [
    {
     "name": "stdout",
     "output_type": "stream",
     "text": [
      "Epoch 0, Train loss 1704.6551991701126, Test loss 167.698894739151\n",
      "Epoch 1, Train loss 804.3970349133015, Test loss 118.7302437722683\n",
      "Epoch 2, Train loss 637.456611186266, Test loss 102.26361376047134\n",
      "Epoch 3, Train loss 554.6198627054691, Test loss 95.11250874400139\n",
      "Epoch 4, Train loss 507.9068992137909, Test loss 84.92091631889343\n",
      "Epoch 5, Train loss 477.5172293931246, Test loss 94.24275070428848\n",
      "Epoch 6, Train loss 453.9889498949051, Test loss 84.43928256630898\n",
      "Epoch 7, Train loss 434.9516487121582, Test loss 75.93581166863441\n",
      "Epoch 8, Train loss 419.1460606753826, Test loss 74.67821410298347\n",
      "Epoch 9, Train loss 407.3154574930668, Test loss 74.68328569829464\n"
     ]
    }
   ],
   "source": [
    "train_losses = []\n",
    "test_losses = []\n",
    "num_epochs = 10\n",
    "\n",
    "for epoch in range(num_epochs):\n",
    "    train_loss = 0\n",
    "    test_loss = 0\n",
    "    \n",
    "    # Training process\n",
    "    for i, data in enumerate(trainDataLoader):\n",
    "        images, labels = data # Unpack the data into the images and labels\n",
    "        images, labels = images.to(device), labels.to(device) # Put on device\n",
    "        optimizer.zero_grad() # Zero out the gradient values\n",
    "        predicted_output = model(images) # Apply our network to the images\n",
    "        fit = loss(predicted_output, labels) # Measure how well the predicted output matches the labels\n",
    "        fit.backward() # Compute the gradient of the fit with respect to the model parameters\n",
    "        optimizer.step() # Update the weights in the model using gradient descent\n",
    "        train_loss += fit.item() # Add the fit to the loss for tracking purposes\n",
    "\n",
    "    # Evaluation process\n",
    "    for i, data in enumerate(testDataLoader):\n",
    "        images, labels = data # Unpack the data into the images and labels\n",
    "        images, labels = images.to(device), labels.to(device) # Put on device\n",
    "        predicted_output = model(images) # Apply our network to the images\n",
    "        fit = loss(predicted_output, labels) # Measure how well the predicted output matches the labels\n",
    "        test_loss += fit.item() # Add the fit to the loss for tracking purposes\n",
    "\n",
    "    # Add the current losses to our tracking lists\n",
    "    train_losses += [train_loss/len(trainDataLoader)]\n",
    "    test_losses += [test_loss/len(testDataLoader)]\n",
    "\n",
    "    # Print the current loss\n",
    "    print(f'Epoch {epoch}, Train loss {train_loss}, Test loss {test_loss}')"
   ]
  },
  {
   "cell_type": "code",
   "execution_count": 6,
   "id": "a48c8fbf",
   "metadata": {},
   "outputs": [
    {
     "data": {
      "image/png": "[encoded data removed]",
      "text/plain": [
       "<Figure size 640x480 with 1 Axes>"
      ]
     },
     "metadata": {},
     "output_type": "display_data"
    }
   ],
   "source": [
    "# Plot the train and test loss curves\n",
    "plt.plot(range(num_epochs), train_losses, label='Train Loss')\n",
    "plt.plot(range(num_epochs), test_losses, label='Test Loss')\n",
    "plt.xlabel('Epoch')\n",
    "plt.ylabel('Loss')\n",
    "plt.legend()\n",
    "plt.show()"
   ]
  },
  {
   "cell_type": "code",
   "execution_count": 7,
   "id": "70ae27db",
   "metadata": {},
   "outputs": [
    {
     "name": "stdout",
     "output_type": "stream",
     "text": [
      "Predicted: 5\n",
      "Labels: 5\n"
     ]
    },
    {
     "data": {
      "image/png": "[encoded data removed]",
      "text/plain": [
       "<Figure size 640x480 with 1 Axes>"
      ]
     },
     "metadata": {},
     "output_type": "display_data"
    },
    {
     "name": "stdout",
     "output_type": "stream",
     "text": [
      "Predicted: 4\n",
      "Labels: 4\n"
     ]
    },
    {
     "data": {
      "image/png": "[encoded data removed]",
      "text/plain": [
       "<Figure size 640x480 with 1 Axes>"
      ]
     },
     "metadata": {},
     "output_type": "display_data"
    },
    {
     "name": "stdout",
     "output_type": "stream",
     "text": [
      "Predicted: 9\n",
      "Labels: 9\n"
     ]
    },
    {
     "data": {
      "image/png": "[encoded data removed]",
      "text/plain": [
       "<Figure size 640x480 with 1 Axes>"
      ]
     },
     "metadata": {},
     "output_type": "display_data"
    }
   ],
   "source": [
    "# Choose three random images and make predictions\n",
    "indices = np.random.choice(len(images), 3, replace=False)\n",
    "\n",
    "predicted_classes = torch.max(predicted_output, 1)[1]\n",
    "for index in indices:\n",
    "    print('Predicted:', predicted_classes[index].item())\n",
    "    print('Labels:', labels[index].item())\n",
    "    plt.imshow(images[index].squeeze().cpu()) # Visualize iamge\n",
    "    plt.show()"
   ]
  },
  {
   "cell_type": "markdown",
   "id": "2ef4f85d",
   "metadata": {},
   "source": [
    "Training and test loss curve will steadily over epochs, and start to level off or even increase after a certain point. It indicates that the network is learning and improving its ability to fit the training data."
   ]
  },
  {
   "cell_type": "markdown",
   "id": "adf5c76d",
   "metadata": {},
   "source": [
    "#### Problem 5"
   ]
  },
  {
   "cell_type": "markdown",
   "id": "2d985e87",
   "metadata": {
    "id": "CKRRjmhbFcx7"
   },
   "source": [
    "In this problem we will train a neural network from scratch using numpy. In practice, you will never need to do this (you'd just use TensorFlow or PyTorch). But hopefully this will give us a sense of what's happening under the hood. \n",
    "\n",
    "For training/testing, we will use the standard MNIST benchmark consisting of images of handwritten images. "
   ]
  },
  {
   "cell_type": "markdown",
   "id": "532a1021",
   "metadata": {
    "id": "k0Zpyb4xQNu2"
   },
   "source": [
    "In the second demo, we worked with autodiff. Autodiff enables us to implicitly store how to calculate the gradient when we call backward. We implemented some basic operations (addition, multiplication, power, and ReLU). In this homework problem, you will implement backprop for more complicated operations directly. Instead of using autodiff, you will manually compute the gradient of the loss function for each parameter."
   ]
  },
  {
   "cell_type": "code",
   "execution_count": 8,
   "id": "96c37ffc",
   "metadata": {},
   "outputs": [
    {
     "data": {
      "image/png": "[encoded data removed]",
      "text/plain": [
       "<Figure size 640x480 with 1 Axes>"
      ]
     },
     "metadata": {},
     "output_type": "display_data"
    }
   ],
   "source": [
    "import tensorflow as tf\n",
    "import matplotlib.pyplot as plt\n",
    "\n",
    "(x_train, y_train), (x_test, y_test) = tf.keras.datasets.mnist.load_data(path=\"mnist.npz\")\n",
    "\n",
    "plt.imshow(x_train[0],cmap='gray');"
   ]
  },
  {
   "cell_type": "markdown",
   "id": "80a86b4c",
   "metadata": {
    "id": "Klx9qPmxF9jI"
   },
   "source": [
    "Loading MNIST is the only place where we will use TensorFlow; the rest of the code will be pure numpy.\n",
    "\n",
    "Let us now set up a few helper functions. We will use sigmoid activations for neurons, the softmax activation for the last layer, and the cross entropy loss."
   ]
  },
  {
   "cell_type": "code",
   "execution_count": 9,
   "id": "53de71fa",
   "metadata": {},
   "outputs": [],
   "source": [
    "import numpy as np\n",
    "\n",
    "def sigmoid(x):\n",
    "  # Numerically stable sigmoid function based on\n",
    "  # http://timvieira.github.io/blog/post/2014/02/11/exp-normalize-trick/\n",
    "  \n",
    "  x = np.clip(x, -50, 50) # We get an overflow warning without this\n",
    "  \n",
    "  return np.where(\n",
    "    x >= 0,\n",
    "    1 / (1 + np.exp(-x)),\n",
    "    np.exp(x) / (1 + np.exp(x))\n",
    "  )\n",
    "\n",
    "def dsigmoid(x): # Derivative of sigmoid\n",
    "    return sigmoid(x) * (1 - sigmoid(x))\n",
    "\n",
    "def softmax(x):\n",
    "    # Numerically stable softmax based on (same source as sigmoid)\n",
    "    # http://timvieira.github.io/blog/post/2014/02/11/exp-normalize-trick/\n",
    "    b = x.max()\n",
    "    y = np.exp(x - b)\n",
    "    return y / y.sum()\n",
    "\n",
    "def cross_entropy_loss(y, yHat):\n",
    "    return -np.sum(y * np.log(yHat))\n",
    "\n",
    "def integer_to_one_hot(x, max):\n",
    "    # x: integer to convert to one hot encoding\n",
    "    # max: the size of the one hot encoded array\n",
    "    result = np.zeros(10)\n",
    "    result[x] = 1\n",
    "    return result"
   ]
  },
  {
   "cell_type": "markdown",
   "id": "7978c1a5",
   "metadata": {
    "id": "_xIZEupTHyNM"
   },
   "source": [
    "OK, we are now ready to build and train our model. The input is an image of size 28x28, and the output is one of 10 classes. So, first: \n",
    "\n",
    "Q1. Initialize a 2-hidden layer neural network with 32 neurons in each hidden layer, i.e., your layer sizes should be: \n",
    "\n",
    "784 -> 32 -> 32 -> 10\n",
    "\n",
    "If the layer is $n_{in} \\times n_{out}$ your layer weights should be initialized by sampling from a normal distribution with mean zero and variance 1/$\\max(n_{in},n_{out})$."
   ]
  },
  {
   "cell_type": "code",
   "execution_count": 10,
   "id": "1c3dd630",
   "metadata": {},
   "outputs": [],
   "source": [
    "import math\n",
    "\n",
    "# Initialize weights of each layer with a normal distribution of mean 0 and\n",
    "# standard deviation 1/sqrt(n), where n is the number of inputs.\n",
    "# This means the weighted input will be a random variable itself with mean\n",
    "# 0 and standard deviation close to 1 (if biases are initialized as 0, standard\n",
    "# deviation will be exactly 1)\n",
    "\n",
    "from numpy.random import default_rng\n",
    "\n",
    "rng = default_rng(80085)\n",
    "\n",
    "# Q1. Fill initialization code here.\n",
    "\n",
    "weights = [\n",
    "    rng.normal(0,1/math.sqrt(784),(32,784)),\n",
    "    rng.normal(0,1/math.sqrt(32),(32,32)),\n",
    "    rng.normal(0,1/math.sqrt(32),(10,32))\n",
    "          ]\n",
    "biases = [np.zeros(32),np.zeros(32),np.zeros(10)]"
   ]
  },
  {
   "cell_type": "markdown",
   "id": "57ad71be",
   "metadata": {
    "id": "IafUGD_VGeLh"
   },
   "source": [
    "Next, we will set up the forward pass. We will implement this by looping over the layers and successively computing the activations of each layer. \n",
    "\n",
    "Q2. Implement the forward pass for a single sample, and for the entire dataset.\n",
    "\n",
    "\n",
    "Right now, your network weights should be random, so doing a forward pass with the data should not give you any meaningful information. Therefore, in the last line, when you calculate test accuracy, it should be somewhere around 1/10 (i.e., a random guess)."
   ]
  },
  {
   "cell_type": "code",
   "execution_count": 11,
   "id": "7ddeaa20",
   "metadata": {},
   "outputs": [
    {
     "name": "stdout",
     "output_type": "stream",
     "text": [
      "Feeding forward all test data...\n",
      "\n",
      "Average loss: 2.36\n",
      "Accuracy (# of correct guesses): 994.0 / 10000 ( 9.94 %)\n",
      "\n"
     ]
    }
   ],
   "source": [
    "def feed_forward_sample(sample, y):\n",
    "    \"\"\" \n",
    "    Forward pass through the neural network.\n",
    "    Inputs:\n",
    "        sample: 1D numpy array. The input sample (an MNIST digit).\n",
    "        label: An integer from 0 to 9.\n",
    "\n",
    "    Returns: the cross entropy loss, most likely class\n",
    "    \"\"\"\n",
    "    # Q2. Fill code here.\n",
    "    # ...\n",
    "        \n",
    "    for i in range(len(weights)):\n",
    "        sample = weights[i] @ sample + biases[i]\n",
    "        sample = sigmoid(sample) if i < len(weights) - 1 else softmax(sample) # Sigmoid 4 hidden, Softmax 4 output\n",
    "\n",
    "    loss = cross_entropy_loss(integer_to_one_hot(y, 10), sample) # Compute loss\n",
    "    one_hot_guess = np.array([1 if i == np.argmax(sample) else 0 for i in range(10)]) # Build predict result\n",
    "    return loss, one_hot_guess\n",
    "\n",
    "\n",
    "def feed_forward_dataset(x, y):\n",
    "    losses = np.empty(x.shape[0])\n",
    "    one_hot_guesses = np.empty((x.shape[0], 10))\n",
    "        \n",
    "    # ...\n",
    "    # Q2. Fill code here to calculate losses, one_hot_guesses\n",
    "    # ...\n",
    "    \n",
    "    for i in range(x.shape[0]):\n",
    "        losses[i], one_hot_guesses[i] = feed_forward_sample(x[i].flatten(),y[i]) # Reshape input to 1D array\n",
    "\n",
    "    y_one_hot = np.zeros((y.size, 10))\n",
    "    y_one_hot[np.arange(y.size), y] = 1\n",
    "\n",
    "    correct_guesses = np.sum(y_one_hot * one_hot_guesses)\n",
    "    correct_guess_percent = format((correct_guesses / y.shape[0]) * 100, \".2f\")  \n",
    "\n",
    "    print(\"\\nAverage loss:\", np.round(np.average(losses), decimals=2))\n",
    "    print(\"Accuracy (# of correct guesses):\", correct_guesses, \"/\", y.shape[0], \"(\", correct_guess_percent, \"%)\")\n",
    "\n",
    "def feed_forward_training_data():\n",
    "    print(\"Feeding forward all training data...\")\n",
    "    feed_forward_dataset(x_train, y_train)\n",
    "    print(\"\")\n",
    "\n",
    "def feed_forward_test_data():\n",
    "    print(\"Feeding forward all test data...\")\n",
    "    feed_forward_dataset(x_test, y_test)\n",
    "    print(\"\")\n",
    "\n",
    "feed_forward_test_data()"
   ]
  },
  {
   "cell_type": "markdown",
   "id": "d227cb73",
   "metadata": {
    "id": "sSrlc2VLOi8L"
   },
   "source": [
    "OK, now we will implement the backward pass using backpropagation. We will keep it simple and just do training sample-by-sample (no minibatching, no randomness).\n",
    "\n",
    "Q3: Compute the gradient of all the weights and biases by backpropagating derivatives all the way from the output to the first layer. \n",
    "\n",
    "\n",
    "\n"
   ]
  },
  {
   "cell_type": "code",
   "execution_count": 12,
   "id": "1266da4d",
   "metadata": {},
   "outputs": [],
   "source": [
    "def train_one_sample(sample, y, learning_rate=0.003):\n",
    "    a = sample.flatten()\n",
    "\n",
    "    # We will store each layer's activations to calculate gradient\n",
    "    activations = [a]\n",
    "\n",
    "    # Forward pass\n",
    "    for i in range(len(weights)):\n",
    "        a = sigmoid(weights[i] @ a + biases[i]) if i < len(weights) - 1 else softmax(weights[i] @ a + biases[i])\n",
    "        activations.append(a)\n",
    "        \n",
    "    # Q3. This should be the same as what you did in feed_forward_sample above.\n",
    "    # ...\n",
    "    \n",
    "    # Backward pass\n",
    "    \n",
    "    # Q3. Implement backpropagation by backward-stepping gradients through each layer.\n",
    "    # You may need to be careful to make sure your Jacobian matrices are the right shape.\n",
    "    # At the end, you should get two vectors: weight_gradients and bias_gradients.\n",
    "    # ...\n",
    "\n",
    "    weight_gradients, bias_gradients, delta = [], [], (activations[-1] - integer_to_one_hot(y,10))[np.newaxis, :]\n",
    "    \n",
    "    for i in range(len(weights) - 1, -1, -1):\n",
    "        bias_gradients.append(delta)\n",
    "        weight_gradients.append(delta.T @ activations[i][np.newaxis, :])\n",
    "        delta = delta @ weights[i] * dsigmoid(activations[i][np.newaxis, :])\n",
    "        \n",
    "        # Update weights & biases based on your calculated gradient\n",
    "        weights[i] -= weight_gradients[-1] * learning_rate\n",
    "        biases[i] -= bias_gradients[-1].flatten() * learning_rate\n"
   ]
  },
  {
   "cell_type": "markdown",
   "id": "fc042af2",
   "metadata": {
    "id": "6AXY27pOB9cW"
   },
   "source": [
    "Finally, train for 3 epochs by looping over the entire training dataset 3 times.\n",
    "\n",
    "Q4. Train your model for 3 epochs."
   ]
  },
  {
   "cell_type": "code",
   "execution_count": 13,
   "id": "7239ebec",
   "metadata": {},
   "outputs": [
    {
     "name": "stdout",
     "output_type": "stream",
     "text": [
      "Feeding forward all test data...\n",
      "\n",
      "Average loss: 2.36\n",
      "Accuracy (# of correct guesses): 994.0 / 10000 ( 9.94 %)\n",
      "\n",
      "Training for one epoch over the training dataset...\n",
      "Finished training.\n",
      "\n",
      "Feeding forward all test data...\n",
      "\n",
      "Average loss: 0.63\n",
      "Accuracy (# of correct guesses): 8027.0 / 10000 ( 80.27 %)\n",
      "\n",
      "Training for one epoch over the training dataset...\n",
      "Finished training.\n",
      "\n",
      "Feeding forward all test data...\n",
      "\n",
      "Average loss: 0.54\n",
      "Accuracy (# of correct guesses): 8391.0 / 10000 ( 83.91 %)\n",
      "\n",
      "Training for one epoch over the training dataset...\n",
      "Finished training.\n",
      "\n",
      "Feeding forward all test data...\n",
      "\n",
      "Average loss: 0.5\n",
      "Accuracy (# of correct guesses): 8564.0 / 10000 ( 85.64 %)\n",
      "\n"
     ]
    }
   ],
   "source": [
    "def train_one_epoch(learning_rate=0.003):\n",
    "    print(\"Training for one epoch over the training dataset...\")\n",
    "\n",
    "    # Q4. Write the training loop over the epoch here.\n",
    "    # ...\n",
    "    \n",
    "    for i in range(x_train.shape[0]):\n",
    "        train_one_sample(x_train[i], y_train[i], learning_rate)\n",
    "\n",
    "    print(\"Finished training.\\n\")\n",
    "\n",
    "\n",
    "feed_forward_test_data()\n",
    "\n",
    "def test_and_train():\n",
    "    train_one_epoch()\n",
    "    feed_forward_test_data()\n",
    "\n",
    "for i in range(3): \n",
    "    test_and_train()"
   ]
  },
  {
   "cell_type": "markdown",
   "id": "01099916",
   "metadata": {
    "id": "IKzEn_lyCAIe"
   },
   "source": [
    "\n",
    "That's it! \n",
    "\n",
    "Your code is probably very time- and memory-inefficient; that's ok. There is a ton of optimization under the hood in professional deep learning frameworks which we won't get into.\n",
    "\n",
    "If everything is working well, you should be able to raise the accuracy from ~10% to ~70% accuracy after 3 epochs."
   ]
  },
  {
   "cell_type": "code",
   "execution_count": null,
   "id": "d4d5bdce",
   "metadata": {},
   "outputs": [],
   "source": []
  }
 ],
 "metadata": {
  "kernelspec": {
   "display_name": "Python 3 (ipykernel)",
   "language": "python",
   "name": "python3"
  },
  "language_info": {
   "codemirror_mode": {
    "name": "ipython",
    "version": 3
   },
   "file_extension": ".py",
   "mimetype": "text/x-python",
   "name": "python",
   "nbconvert_exporter": "python",
   "pygments_lexer": "ipython3",
   "version": "3.9.6"
  }
 },
 "nbformat": 4,
 "nbformat_minor": 5
}
